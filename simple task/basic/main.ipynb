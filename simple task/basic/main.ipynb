{
 "cells": [
  {
   "cell_type": "code",
   "execution_count": 3,
   "id": "20e09e1f-da13-47a2-aff2-a7b177b54a4d",
   "metadata": {},
   "outputs": [
    {
     "name": "stdout",
     "output_type": "stream",
     "text": [
      "\n",
      "Task Management App\n",
      "1. Add Task\n",
      "2. Remove Task\n",
      "3. List Tasks\n",
      "4. Recommend Task\n",
      "5. Exit\n"
     ]
    },
    {
     "name": "stdin",
     "output_type": "stream",
     "text": [
      "Select an option:  3\n"
     ]
    },
    {
     "name": "stdout",
     "output_type": "stream",
     "text": [
      "                            description priority\n",
      "0                         Buy groceries     High\n",
      "1               Complete project report   Medium\n",
      "2      Schedule a meeting with the team      Low\n",
      "3  Prepare presentation for the meeting   Medium\n",
      "4                         Pay the bills     High\n",
      "5                              Exercise      Low\n",
      "6                               testing     High\n",
      "7                                design   Medium\n",
      "8                       pay college fee     High\n",
      "\n",
      "Task Management App\n",
      "1. Add Task\n",
      "2. Remove Task\n",
      "3. List Tasks\n",
      "4. Recommend Task\n",
      "5. Exit\n"
     ]
    },
    {
     "name": "stdin",
     "output_type": "stream",
     "text": [
      "Select an option:  4\n"
     ]
    },
    {
     "name": "stdout",
     "output_type": "stream",
     "text": [
      "Recommended task: pay college fee - Priority: High\n",
      "\n",
      "Task Management App\n",
      "1. Add Task\n",
      "2. Remove Task\n",
      "3. List Tasks\n",
      "4. Recommend Task\n",
      "5. Exit\n"
     ]
    },
    {
     "name": "stdin",
     "output_type": "stream",
     "text": [
      "Select an option:  4\n"
     ]
    },
    {
     "name": "stdout",
     "output_type": "stream",
     "text": [
      "Recommended task: testing - Priority: High\n",
      "\n",
      "Task Management App\n",
      "1. Add Task\n",
      "2. Remove Task\n",
      "3. List Tasks\n",
      "4. Recommend Task\n",
      "5. Exit\n"
     ]
    },
    {
     "ename": "KeyboardInterrupt",
     "evalue": "Interrupted by user",
     "output_type": "error",
     "traceback": [
      "\u001b[1;31m---------------------------------------------------------------------------\u001b[0m",
      "\u001b[1;31mKeyboardInterrupt\u001b[0m                         Traceback (most recent call last)",
      "Cell \u001b[1;32mIn[3], line 73\u001b[0m\n\u001b[0;32m     70\u001b[0m \u001b[38;5;28mprint\u001b[39m(\u001b[38;5;124m\"\u001b[39m\u001b[38;5;124m4. Recommend Task\u001b[39m\u001b[38;5;124m\"\u001b[39m)\n\u001b[0;32m     71\u001b[0m \u001b[38;5;28mprint\u001b[39m(\u001b[38;5;124m\"\u001b[39m\u001b[38;5;124m5. Exit\u001b[39m\u001b[38;5;124m\"\u001b[39m)\n\u001b[1;32m---> 73\u001b[0m choice \u001b[38;5;241m=\u001b[39m \u001b[38;5;28;43minput\u001b[39;49m\u001b[43m(\u001b[49m\u001b[38;5;124;43m\"\u001b[39;49m\u001b[38;5;124;43mSelect an option: \u001b[39;49m\u001b[38;5;124;43m\"\u001b[39;49m\u001b[43m)\u001b[49m\n\u001b[0;32m     75\u001b[0m \u001b[38;5;28;01mif\u001b[39;00m choice \u001b[38;5;241m==\u001b[39m \u001b[38;5;124m\"\u001b[39m\u001b[38;5;124m1\u001b[39m\u001b[38;5;124m\"\u001b[39m:\n\u001b[0;32m     76\u001b[0m     description \u001b[38;5;241m=\u001b[39m \u001b[38;5;28minput\u001b[39m(\u001b[38;5;124m\"\u001b[39m\u001b[38;5;124mEnter task description: \u001b[39m\u001b[38;5;124m\"\u001b[39m)\n",
      "File \u001b[1;32m~\\AppData\\Local\\Programs\\Python\\Python312\\Lib\\site-packages\\ipykernel\\kernelbase.py:1282\u001b[0m, in \u001b[0;36mKernel.raw_input\u001b[1;34m(self, prompt)\u001b[0m\n\u001b[0;32m   1280\u001b[0m     msg \u001b[38;5;241m=\u001b[39m \u001b[38;5;124m\"\u001b[39m\u001b[38;5;124mraw_input was called, but this frontend does not support input requests.\u001b[39m\u001b[38;5;124m\"\u001b[39m\n\u001b[0;32m   1281\u001b[0m     \u001b[38;5;28;01mraise\u001b[39;00m StdinNotImplementedError(msg)\n\u001b[1;32m-> 1282\u001b[0m \u001b[38;5;28;01mreturn\u001b[39;00m \u001b[38;5;28;43mself\u001b[39;49m\u001b[38;5;241;43m.\u001b[39;49m\u001b[43m_input_request\u001b[49m\u001b[43m(\u001b[49m\n\u001b[0;32m   1283\u001b[0m \u001b[43m    \u001b[49m\u001b[38;5;28;43mstr\u001b[39;49m\u001b[43m(\u001b[49m\u001b[43mprompt\u001b[49m\u001b[43m)\u001b[49m\u001b[43m,\u001b[49m\n\u001b[0;32m   1284\u001b[0m \u001b[43m    \u001b[49m\u001b[38;5;28;43mself\u001b[39;49m\u001b[38;5;241;43m.\u001b[39;49m\u001b[43m_parent_ident\u001b[49m\u001b[43m[\u001b[49m\u001b[38;5;124;43m\"\u001b[39;49m\u001b[38;5;124;43mshell\u001b[39;49m\u001b[38;5;124;43m\"\u001b[39;49m\u001b[43m]\u001b[49m\u001b[43m,\u001b[49m\n\u001b[0;32m   1285\u001b[0m \u001b[43m    \u001b[49m\u001b[38;5;28;43mself\u001b[39;49m\u001b[38;5;241;43m.\u001b[39;49m\u001b[43mget_parent\u001b[49m\u001b[43m(\u001b[49m\u001b[38;5;124;43m\"\u001b[39;49m\u001b[38;5;124;43mshell\u001b[39;49m\u001b[38;5;124;43m\"\u001b[39;49m\u001b[43m)\u001b[49m\u001b[43m,\u001b[49m\n\u001b[0;32m   1286\u001b[0m \u001b[43m    \u001b[49m\u001b[43mpassword\u001b[49m\u001b[38;5;241;43m=\u001b[39;49m\u001b[38;5;28;43;01mFalse\u001b[39;49;00m\u001b[43m,\u001b[49m\n\u001b[0;32m   1287\u001b[0m \u001b[43m\u001b[49m\u001b[43m)\u001b[49m\n",
      "File \u001b[1;32m~\\AppData\\Local\\Programs\\Python\\Python312\\Lib\\site-packages\\ipykernel\\kernelbase.py:1325\u001b[0m, in \u001b[0;36mKernel._input_request\u001b[1;34m(self, prompt, ident, parent, password)\u001b[0m\n\u001b[0;32m   1322\u001b[0m \u001b[38;5;28;01mexcept\u001b[39;00m \u001b[38;5;167;01mKeyboardInterrupt\u001b[39;00m:\n\u001b[0;32m   1323\u001b[0m     \u001b[38;5;66;03m# re-raise KeyboardInterrupt, to truncate traceback\u001b[39;00m\n\u001b[0;32m   1324\u001b[0m     msg \u001b[38;5;241m=\u001b[39m \u001b[38;5;124m\"\u001b[39m\u001b[38;5;124mInterrupted by user\u001b[39m\u001b[38;5;124m\"\u001b[39m\n\u001b[1;32m-> 1325\u001b[0m     \u001b[38;5;28;01mraise\u001b[39;00m \u001b[38;5;167;01mKeyboardInterrupt\u001b[39;00m(msg) \u001b[38;5;28;01mfrom\u001b[39;00m \u001b[38;5;28;01mNone\u001b[39;00m\n\u001b[0;32m   1326\u001b[0m \u001b[38;5;28;01mexcept\u001b[39;00m \u001b[38;5;167;01mException\u001b[39;00m:\n\u001b[0;32m   1327\u001b[0m     \u001b[38;5;28mself\u001b[39m\u001b[38;5;241m.\u001b[39mlog\u001b[38;5;241m.\u001b[39mwarning(\u001b[38;5;124m\"\u001b[39m\u001b[38;5;124mInvalid Message:\u001b[39m\u001b[38;5;124m\"\u001b[39m, exc_info\u001b[38;5;241m=\u001b[39m\u001b[38;5;28;01mTrue\u001b[39;00m)\n",
      "\u001b[1;31mKeyboardInterrupt\u001b[0m: Interrupted by user"
     ]
    }
   ],
   "source": [
    "import pandas as pd\n",
    "from sklearn.feature_extraction.text import CountVectorizer\n",
    "from sklearn.naive_bayes import MultinomialNB\n",
    "from sklearn.pipeline import make_pipeline\n",
    "import random\n",
    "\n",
    "# Initialize an empty task list\n",
    "tasks = pd.DataFrame(columns=['description', 'priority'])\n",
    "\n",
    "# Load pre-existing tasks from a CSV file (if any)\n",
    "try:\n",
    "    tasks = pd.read_csv('tasks.csv')\n",
    "except FileNotFoundError:\n",
    "    pass\n",
    "\n",
    "# Function to save tasks to a CSV file\n",
    "def save_tasks():\n",
    "    tasks.to_csv('tasks.csv', index=False)\n",
    "\n",
    "# Train the task priority classifier\n",
    "if not tasks.empty:  # Check if there are tasks to train on\n",
    "    vectorizer = CountVectorizer()\n",
    "    clf = MultinomialNB()\n",
    "    model = make_pipeline(vectorizer, clf)\n",
    "    model.fit(tasks['description'], tasks['priority'])\n",
    "\n",
    "# Function to add a task to the list\n",
    "def add_task(description, priority):\n",
    "    global tasks  # Declare tasks as a global variable\n",
    "    new_task = pd.DataFrame({'description': [description], 'priority': [priority]})\n",
    "    tasks = pd.concat([tasks, new_task], ignore_index=True)\n",
    "    save_tasks()\n",
    "\n",
    "# Function to remove a task by description\n",
    "def remove_task(description):\n",
    "    global tasks  # Declare tasks as a global variable\n",
    "    tasks = tasks[tasks['description'] != description]\n",
    "    save_tasks()\n",
    "\n",
    "# Function to list all tasks\n",
    "def list_tasks():\n",
    "    if tasks.empty:\n",
    "        print(\"No tasks available.\")\n",
    "    else:\n",
    "        print(tasks)\n",
    "\n",
    "# Function to recommend a task based on machine learning\n",
    "def recommend_task():\n",
    "    if not tasks.empty:\n",
    "        # Get high-priority tasks\n",
    "        high_priority_tasks = tasks[tasks['priority'] == 'High']\n",
    "        \n",
    "        if not high_priority_tasks.empty:\n",
    "            # Choose a random high-priority task\n",
    "            random_index = random.choice(high_priority_tasks.index)\n",
    "            random_task = high_priority_tasks.loc[random_index, 'description']\n",
    "            print(f\"Recommended task: {random_task} - Priority: High\")\n",
    "        else:\n",
    "            print(\"No high-priority tasks available for recommendation.\")\n",
    "    else:\n",
    "        print(\"No tasks available for recommendations.\")\n",
    "\n",
    "\n",
    "# Main menu\n",
    "while True:\n",
    "    print(\"\\nTask Management App\")\n",
    "    print(\"1. Add Task\")\n",
    "    print(\"2. Remove Task\")\n",
    "    print(\"3. List Tasks\")\n",
    "    print(\"4. Recommend Task\")\n",
    "    print(\"5. Exit\")\n",
    "\n",
    "    choice = input(\"Select an option: \")\n",
    "\n",
    "    if choice == \"1\":\n",
    "        description = input(\"Enter task description: \")\n",
    "        priority = input(\"Enter task priority (Low/Medium/High): \").capitalize()\n",
    "        add_task(description, priority)\n",
    "        print(\"Task added successfully.\")\n",
    "\n",
    "    elif choice == \"2\":\n",
    "        description = input(\"Enter task description to remove: \")\n",
    "        remove_task(description)\n",
    "        print(\"Task removed successfully.\")\n",
    "\n",
    "    elif choice == \"3\":\n",
    "        list_tasks()\n",
    "\n",
    "    elif choice == \"4\":\n",
    "        recommend_task()\n",
    "\n",
    "    elif choice == \"5\":\n",
    "        print(\"Goodbye!\")\n",
    "        break\n",
    "\n",
    "    else:\n",
    "        print(\"Invalid option. Please select a valid option.\")\n",
    "\n"
   ]
  },
  {
   "cell_type": "code",
   "execution_count": null,
   "id": "9bf41ebd-7f8c-47ca-973e-ddd38a070edd",
   "metadata": {},
   "outputs": [],
   "source": []
  }
 ],
 "metadata": {
  "kernelspec": {
   "display_name": "Python 3 (ipykernel)",
   "language": "python",
   "name": "python3"
  },
  "language_info": {
   "codemirror_mode": {
    "name": "ipython",
    "version": 3
   },
   "file_extension": ".py",
   "mimetype": "text/x-python",
   "name": "python",
   "nbconvert_exporter": "python",
   "pygments_lexer": "ipython3",
   "version": "3.12.1"
  }
 },
 "nbformat": 4,
 "nbformat_minor": 5
}
